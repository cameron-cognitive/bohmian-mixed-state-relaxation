{
 "cells": [
  {
   "cell_type": "markdown",
   "metadata": {},
   "source": [
    "# Bohmian Mixed-State Relaxation Demonstration\n",
    "\n",
    "This notebook demonstrates the simulation of quantum relaxation in Bohmian mechanics, extending Valentini's 2D box model to mixed quantum states."
   ]
  },
  {
   "cell_type": "code",
   "execution_count": null,
   "metadata": {},
   "source": [
    "# Add the parent directory to the path so we can import the package modules\n",
    "import sys\n",
    "sys.path.append('..')\n",
    "\n",
    "import numpy as np\n",
    "import matplotlib.pyplot as plt\n",
    "import time\n",
    "\n",
    "from src.system import InfiniteSquareWell2D\n",
    "from src.quantum_state import PureState, MixedState\n",
    "from src.relaxation import BohmianRelaxation\n",
    "from src.visualization import plot_wavefunction, plot_mixed_state, plot_h_function, animate_evolution, plot_h_matrix"
   ]
  },
  {
   "cell_type": "markdown",
   "metadata": {},
   "source": [
    "## 1. System Setup: 2D Infinite Square Well\n",
    "\n",
    "First, we'll set up the physical system - a 2D infinite square well (box) with sides of length $L = \\pi$. The energy eigenstates are:\n",
    "\n",
    "$$\\phi_{n_x,n_y}(x,y) = \\frac{2}{L}\\sin\\left(\\frac{n_x \\pi x}{L}\\right)\\sin\\left(\\frac{n_y \\pi y}{L}\\right)$$\n",
    "\n",
    "with corresponding energies:\n",
    "\n",
    "$$E_{n_x,n_y} = \\frac{\\pi^2 \\hbar^2}{2m L^2}(n_x^2 + n_y^2)$$\n",
    "\n",
    "Using $\\hbar = 1$ and $m = 1$, we get $E_{n_x,n_y} = \\frac{1}{2}(n_x^2 + n_y^2)$."
   ]
  },
  {
   "cell_type": "code",
   "execution_count": null,
   "metadata": {},
   "source": [
    "# Initialize the 2D infinite square well system\n",
    "system = InfiniteSquareWell2D(\n",
    "    L=np.pi,  # Length of the box side\n",
    "    hbar=1.0,  # Reduced Planck constant\n",
    "    m=1.0,     # Particle mass\n",
    "    Nx=100,    # Number of grid points in x\n",
    "    Ny=100     # Number of grid points in y\n",
    ")\n",
    "\n",
    "# Print system parameters\n",
    "print(f\"System parameters:\\n\")\n",
    "print(f\"  Box side length: {system.L}\")\n",
    "print(f\"  ħ: {system.hbar}\")\n",
    "print(f\"  Mass: {system.m}\")\n",
    "print(f\"  Grid size: {system.Nx} × {system.Ny}\")\n",
    "\n",
    "# Calculate and display some eigenenergies\n",
    "print(\"\\nSome energy eigenvalues:\")\n",
    "for nx in range(1, 4):\n",
    "    for ny in range(1, 4):\n",
    "        E = system.energy(nx, ny)\n",
    "        print(f\"  E_{nx,ny} = {E:.4f}\")"
   ]
  },
  {
   "cell_type": "markdown",
   "metadata": {},
   "source": [
    "## 2. Pure State vs. Mixed State Construction\n",
    "\n",
    "Now we'll construct both pure and mixed quantum states. For the pure state, we'll follow Valentini's approach with a superposition of 4 modes. For the mixed state, we'll create a 50/50 mixture of two different pure states."
   ]
  },
  {
   "cell_type": "code",
   "execution_count": null,
   "metadata": {},
   "source": [
    "# Define mode indices for the pure states\n",
    "mode_indices_1 = [(1, 1), (1, 2), (2, 1), (2, 2)]  # First set of modes\n",
    "mode_indices_2 = [(2, 2), (2, 3), (3, 2), (3, 3)]  # Second set of modes (different from first)\n",
    "\n",
    "# Define amplitudes (equal for simplicity)\n",
    "amplitudes_1 = np.ones(len(mode_indices_1)) / np.sqrt(len(mode_indices_1))\n",
    "amplitudes_2 = np.ones(len(mode_indices_2)) / np.sqrt(len(mode_indices_2))\n",
    "\n",
    "# Define phases - we'll create both random and aligned cases\n",
    "np.random.seed(42)  # For reproducibility\n",
    "\n",
    "# Random phases for full relaxation\n",
    "phases_random_1 = 2 * np.pi * np.random.random(len(mode_indices_1))\n",
    "phases_random_2 = 2 * np.pi * np.random.random(len(mode_indices_2))\n",
    "\n",
    "# Aligned phases for partial relaxation\n",
    "phases_aligned_1 = np.zeros(len(mode_indices_1))\n",
    "phases_aligned_2 = np.zeros(len(mode_indices_2))\n",
    "\n",
    "# Create pure states\n",
    "pure_state_random = PureState(system, mode_indices_1, amplitudes_1, phases_random_1)\n",
    "pure_state_aligned = PureState(system, mode_indices_1, amplitudes_1, phases_aligned_1)\n",
    "\n",
    "# Create second set of pure states for the mixed state\n",
    "psi1_random = PureState(system, mode_indices_1, amplitudes_1, phases_random_1)\n",
    "psi2_random = PureState(system, mode_indices_2, amplitudes_2, phases_random_2)\n",
    "psi1_aligned = PureState(system, mode_indices_1, amplitudes_1, phases_aligned_1)\n",
    "psi2_aligned = PureState(system, mode_indices_2, amplitudes_2, phases_aligned_2)\n",
    "\n",
    "# Create mixed states (50/50 mixture)\n",
    "mixed_state_random = MixedState(system, [psi1_random, psi2_random], [0.5, 0.5])\n",
    "mixed_state_aligned = MixedState(system, [psi1_aligned, psi2_aligned], [0.5, 0.5])"
   ]
  },
  {
   "cell_type": "markdown",
   "metadata": {},
   "source": [
    "### Visualize the quantum states\n",
    "\n",
    "Let's visualize the probability densities of the pure and mixed states we've created."
   ]
  },
  {
   "cell_type": "code",
   "execution_count": null,
   "metadata": {},
   "source": [
    "# Plot pure state with random phases\n",
    "fig1 = plot_wavefunction(pure_state_random, t=0, \n",
    "                       title=\"Pure State with Random Phases\")\n",
    "\n",
    "# Plot pure state with aligned phases\n",
    "fig2 = plot_wavefunction(pure_state_aligned, t=0, \n",
    "                       title=\"Pure State with Aligned Phases\")\n",
    "\n",
    "plt.figure(figsize=(16, 6))\n",
    "plt.subplot(1, 2, 1)\n",
    "plt.title('Pure State Modes')\n",
    "for i, (nx, ny) in enumerate(mode_indices_1):\n",
    "    plt.text(0.1, 0.9 - i*0.1, f\"({nx}, {ny}) with phase {phases_random_1[i]:.2f}\", transform=plt.gca().transAxes)\n",
    "\n",
    "plt.subplot(1, 2, 2)\n",
    "plt.title('Mixed State Additional Modes')\n",
    "for i, (nx, ny) in enumerate(mode_indices_2):\n",
    "    plt.text(0.1, 0.9 - i*0.1, f\"({nx}, {ny}) with phase {phases_random_2[i]:.2f}\", transform=plt.gca().transAxes)\n",
    "\n",
    "plt.tight_layout()\n",
    "plt.show()\n",
    "\n",
    "# Plot mixed state with random phases\n",
    "fig3 = plot_mixed_state(mixed_state_random, t=0, \n",
    "                      title=\"Mixed State with Random Phases\")\n",
    "\n",
    "# Plot mixed state with aligned phases\n",
    "fig4 = plot_mixed_state(mixed_state_aligned, t=0, \n",
    "                      title=\"Mixed State with Aligned Phases\")"
   ]
  },
  {
   "cell_type": "markdown",
   "metadata": {},
   "source": [
    "## 3. Non-Equilibrium Initial Conditions\n",
    "\n",
    "To study quantum relaxation, we need non-equilibrium initial conditions. Following Valentini's approach, we'll generate these by:\n",
    "\n",
    "1. Starting with an equilibrium distribution at a final time $T$\n",
    "2. Evolving backwards in time to $t=0$ using the Bohmian guidance equation with reversed time\n",
    "3. Using the resulting distribution as our non-equilibrium initial state\n",
    "\n",
    "For simplicity, we'll just demonstrate this with the aligned-phase pure state (which is expected to show partial non-convergence)."
   ]
  },
  {
   "cell_type": "code",
   "execution_count": null,
   "metadata": {},
   "source": [
    "# Set simulation parameters\n",
    "n_particles = 500  # Reduced for notebook performance\n",
    "dt = 0.01          # Time step for integration\n",
    "t_max = 2.0 * np.pi  # Maximum simulation time (two box periods)\n",
    "\n",
    "# Create simulation for the pure state with aligned phases\n",
    "simulation_pure = BohmianRelaxation(\n",
    "    system=system,\n",
    "    quantum_state=pure_state_aligned,\n",
    "    n_particles=n_particles,\n",
    "    dt=dt,\n",
    "    t_max=t_max\n",
    ")\n",
    "\n",
    "# Generate non-equilibrium initial conditions via backward evolution\n",
    "print(\"Generating non-equilibrium initial conditions via backward evolution...\")\n",
    "start_time = time.time()\n",
    "simulation_pure.generate_initial_conditions()\n",
    "end_time = time.time()\n",
    "print(f\"Generated initial conditions in {end_time - start_time:.2f} seconds\")"
   ]
  },
  {
   "cell_type": "code",
   "execution_count": null,
   "metadata": {},
   "source": [
    "# Visualize the initial non-equilibrium distribution\n",
    "from src.visualization import plot_particle_distribution\n",
    "\n",
    "# Plot the initial particle distribution\n",
    "fig_initial = plot_particle_distribution(simulation_pure, timestep=0, bins=30,\n",
    "                                      title=\"Initial Non-Equilibrium Distribution\")\n",
    "\n",
    "# For comparison, plot the equilibrium distribution at t=0\n",
    "plt.figure(figsize=(8, 6))\n",
    "plt.imshow(pure_state_aligned.probability_density(system.X, system.Y, t=0).T,\n",
    "         extent=[0, system.L, 0, system.L], origin='lower', cmap='viridis')\n",
    "plt.colorbar(label='Equilibrium probability density $|\\psi|^2$')\n",
    "plt.xlabel('x')\n",
    "plt.ylabel('y')\n",
    "plt.title('Equilibrium Distribution at t=0')\n",
    "plt.tight_layout()"
   ]
  },
  {
   "cell_type": "markdown",
   "metadata": {},
   "source": [
    "## 4. Forward Simulation and Relaxation\n",
    "\n",
    "Now we'll run the forward simulation, evolving the non-equilibrium initial distribution according to Bohmian mechanics. We'll then calculate the H-function to quantify the relaxation process."
   ]
  },
  {
   "cell_type": "code",
   "execution_count": null,
   "metadata": {},
   "source": [
    "# Run the forward simulation\n",
    "print(\"Running forward Bohmian simulation...\")\n",
    "start_time = time.time()\n",
    "results_pure = simulation_pure.run_simulation()\n",
    "end_time = time.time()\n",
    "print(f\"Forward simulation completed in {end_time - start_time:.2f} seconds\")"
   ]
  },
  {
   "cell_type": "code",
   "execution_count": null,
   "metadata": {},
   "source": [
    "# Plot the final particle distribution\n",
    "fig_final = plot_particle_distribution(simulation_pure, timestep=simulation_pure.n_timesteps-1, bins=30,\n",
    "                                    title=\"Final Particle Distribution\")\n",
    "\n",
    "# Calculate and plot the H-function\n",
    "print(\"Calculating H-function...\")\n",
    "h_values = simulation_pure.calculate_h_function()\n",
    "\n",
    "# Calculate coarse-grained H-functions for comparison\n",
    "h_coarse_values = {}\n",
    "for cg_level in [5, 10, 20]:\n",
    "    h_coarse_values[cg_level] = simulation_pure.calculate_h_function(coarse_grain=cg_level)\n",
    "\n",
    "# Plot H-function evolution\n",
    "time_values = np.linspace(0, t_max, len(h_values))\n",
    "fig_h = plot_h_function(time_values, h_values, h_coarse_values,\n",
    "                      title=\"H-Function Evolution for Pure State with Aligned Phases\")"
   ]
  },
  {
   "cell_type": "markdown",
   "metadata": {},
   "source": [
    "## 5. Visualizing the H-Function Matrix\n",
    "\n",
    "The H-function is defined as:  \n",
    "$H(t) = \\mathrm{Tr}[\\rho(t)(\\ln \\rho(t) - \\ln W(t))]$\n",
    "\n",
    "Let's visualize the matrix $\\rho(\\ln \\rho - \\ln W)$ at both the initial and final times to see where the non-convergence occurs in configuration space."
   ]
  },
  {
   "cell_type": "code",
   "execution_count": null,
   "metadata": {},
   "source": [
    "# Plot the H-function matrix at the initial time\n",
    "fig_h_matrix_initial = plot_h_matrix(simulation_pure, timestep=0, coarse_grain=30,\n",
    "                                   title=\"H-Function Matrix at Initial Time\")\n",
    "\n",
    "# Plot the H-function matrix at the final time\n",
    "fig_h_matrix_final = plot_h_matrix(simulation_pure, timestep=simulation_pure.n_timesteps-1, coarse_grain=30,\n",
    "                                 title=\"H-Function Matrix at Final Time\")"
   ]
  },
  {
   "cell_type": "markdown",
   "metadata": {},
   "source": [
    "## 6. Comparing Pure and Mixed State Relaxation\n",
    "\n",
    "Now let's run a quick comparison between pure and mixed state relaxation with aligned phases (which should show partial non-convergence)."
   ]
  },
  {
   "cell_type": "code",
   "execution_count": null,
   "metadata": {},
   "source": [
    "# Create simulation for the mixed state with aligned phases\n",
    "simulation_mixed = BohmianRelaxation(\n",
    "    system=system,\n",
    "    quantum_state=mixed_state_aligned,\n",
    "    n_particles=n_particles,\n",
    "    dt=dt,\n",
    "    t_max=t_max\n",
    ")\n",
    "\n",
    "# Generate non-equilibrium initial conditions\n",
    "print(\"Generating non-equilibrium initial conditions for mixed state...\")\n",
    "simulation_mixed.generate_initial_conditions()\n",
    "\n",
    "# Run the forward simulation\n",
    "print(\"Running forward simulation for mixed state...\")\n",
    "results_mixed = simulation_mixed.run_simulation()\n",
    "\n",
    "# Calculate H-function for mixed state\n",
    "h_values_mixed = simulation_mixed.calculate_h_function()\n",
    "\n",
    "# Normalize H-functions for comparison\n",
    "h_pure_norm = h_values / h_values[0]\n",
    "h_mixed_norm = h_values_mixed / h_values_mixed[0]\n",
    "\n",
    "# Plot comparison\n",
    "plt.figure(figsize=(10, 6))\n",
    "plt.plot(time_values, h_pure_norm, 'b-', linewidth=2, label='Pure State')\n",
    "plt.plot(time_values, h_mixed_norm, 'r-', linewidth=2, label='Mixed State')\n",
    "plt.axhline(y=0.1, color='k', linestyle='--', alpha=0.5, label='10% Residual')\n",
    "\n",
    "plt.xlabel('Time $t$')\n",
    "plt.ylabel('Normalized H-function $H(t)/H(0)$')\n",
    "plt.title('Comparison of Pure and Mixed State Relaxation with Aligned Phases')\n",
    "plt.legend(loc='best')\n",
    "plt.grid(True, linestyle='--', alpha=0.6)\n",
    "plt.ylim(0, 1.05)\n",
    "\n",
    "plt.tight_layout()\n",
    "\n",
    "# Print final values\n",
    "print(f\"Final normalized H-function values:\")\n",
    "print(f\"  Pure state:  {h_pure_norm[-1]:.4f} (~ {h_pure_norm[-1]*100:.1f}% residual)\")\n",
    "print(f\"  Mixed state: {h_mixed_norm[-1]:.4f} (~ {h_mixed_norm[-1]*100:.1f}% residual)\")"
   ]
  },
  {
   "cell_type": "markdown",
   "metadata": {},
   "source": [
    "## 7. Animation of Relaxation Process\n",
    "\n",
    "Finally, let's create an animation to visualize the relaxation process for the mixed state."
   ]
  },
  {
   "cell_type": "code",
   "execution_count": null,
   "metadata": {},
   "source": [
    "# Create animation (note: this may take some time)\n",
    "# We'll use a subset of frames to make it faster\n",
    "print(\"Generating animation... (this may take a while)\")\n",
    "\n",
    "# For notebooks, we need to use a different approach to display animations\n",
    "from IPython.display import HTML\n",
    "from matplotlib import animation\n",
    "\n",
    "# Create a subset of the results for faster animation\n",
    "frame_skip = 10  # Show every 10th frame\n",
    "subset_results = {\n",
    "    'positions': simulation_mixed.positions[:, :, ::frame_skip],\n",
    "    'dt': simulation_mixed.dt * frame_skip,\n",
    "    'n_timesteps': simulation_mixed.n_timesteps // frame_skip,\n",
    "    'particle_indices': simulation_mixed.particle_indices\n",
    "}\n",
    "\n",
    "anim = animate_evolution(\n",
    "    simulation=simulation_mixed,\n",
    "    results=subset_results,\n",
    "    interval=100\n",
    ")\n",
    "\n",
    "# Display the animation\n",
    "HTML(anim.to_jshtml())"
   ]
  },
  {
   "cell_type": "markdown",
   "metadata": {},
   "source": [
    "## 8. Conclusion\n",
    "\n",
    "We have successfully implemented a simulation of Bohmian quantum relaxation for both pure and mixed states in a 2D box. The key findings are:\n",
    "\n",
    "1. With random phases, both pure and mixed states show good relaxation to quantum equilibrium.\n",
    "2. With aligned phases and specific mode choices, we observe partial non-convergence, with approximately 10% residual non-equilibrium as predicted by Valentini.\n",
    "3. The mixed state formalism correctly extends the pure state case, with the H-function properly tracking the relaxation of the ensemble to the mixed state density matrix diagonal.\n",
    "\n",
    "This notebook demonstrates the key capabilities of the `bohmian-mixed-state-relaxation` package. For more detailed examples and analyses, refer to the scripts in the `examples` directory."
   ]
  }
 ],
 "metadata": {
  "kernelspec": {
   "display_name": "Python 3",
   "language": "python",
   "name": "python3"
  },
  "language_info": {
   "codemirror_mode": {
    "name": "ipython",
    "version": 3
   },
   "file_extension": ".py",
   "mimetype": "text/x-python",
   "name": "python",
   "nbconvert_exporter": "python",
   "pygments_lexer": "ipython3",
   "version": "3.8.10"
  }
 },
 "nbformat": 4,
 "nbformat_minor": 4
}